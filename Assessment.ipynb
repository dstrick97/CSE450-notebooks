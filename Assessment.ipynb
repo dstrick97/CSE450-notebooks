{
  "nbformat": 4,
  "nbformat_minor": 0,
  "metadata": {
    "colab": {
      "name": "Assessment.ipynb",
      "provenance": [],
      "collapsed_sections": [],
      "include_colab_link": true
    },
    "kernelspec": {
      "name": "python3",
      "display_name": "Python 3"
    }
  },
  "cells": [
    {
      "cell_type": "markdown",
      "metadata": {
        "id": "view-in-github",
        "colab_type": "text"
      },
      "source": [
        "<a href=\"https://colab.research.google.com/github/dstrick97/CSE450-notebooks/blob/main/Assessment.ipynb\" target=\"_parent\"><img src=\"https://colab.research.google.com/assets/colab-badge.svg\" alt=\"Open In Colab\"/></a>"
      ]
    },
    {
      "cell_type": "markdown",
      "metadata": {
        "id": "E5dpj74Hya2q"
      },
      "source": [
        "# Introduction\n",
        "This assignment will test how well you're able to perform various data science-related tasks.\n",
        "\n",
        "Each Problem Group below will center around a particular dataset that you have worked with before.\n",
        "\n",
        "To ensure you receive full credit for a question, make sure you demonstrate the appropriate pandas, altair, or other commands as requested in the provided code blocks. \n",
        "\n",
        "You may find that some questions require multiple steps to fully answer. Others require some mental arithmetic in addition to pandas commands. Use your best judgment.\n",
        "\n",
        "## Submission\n",
        "Each problem group asks a series of questions. This assignment consists of two submissions:\n",
        "\n",
        "1. After completing the questions below, open the Module 01 Assessment Quiz in Canvas and enter your answers to these questions there.\n",
        "\n",
        "2. After completing and submitting the quiz, save this Colab notebook as a GitHub Gist (You'll need to create a GitHub account for this), by selecting `Save a copy as a GitHub Gist` from the `File` menu above.\n",
        "\n",
        "    In Canvas, open the Module 01 Assessment GitHub Gist assignment and paste the GitHub Gist URL for this notebook. Then submit that assignment."
      ]
    },
    {
      "cell_type": "markdown",
      "metadata": {
        "id": "WgYhh-W3xk4e"
      },
      "source": [
        "## Problem Group 1\n",
        "\n",
        "For the questions in this group, you'll work with the Netflix Movies Dataset found at this url: [https://raw.githubusercontent.com/byui-cse/cse450-course/master/data/netflix_titles.csv](https://raw.githubusercontent.com/byui-cse/cse450-course/master/data/netflix_titles.csv)\n"
      ]
    },
    {
      "cell_type": "markdown",
      "metadata": {
        "id": "kulUs9K7xxB3"
      },
      "source": [
        "### Question 1\n",
        "Load the dataset into a Pandas data frame and determine what data type is used to store the `release_year` feature."
      ]
    },
    {
      "cell_type": "code",
      "metadata": {
        "id": "ecSfSVrsxjx5",
        "colab": {
          "base_uri": "https://localhost:8080/"
        },
        "outputId": "230679d9-a005-4963-f85a-b7ebec2beddc"
      },
      "source": [
        "import pandas as pd\n",
        "netflix = pd.read_csv(\"https://raw.githubusercontent.com/byui-cse/cse450-course/master/data/netflix_titles.csv\")\n",
        "netflix.info()"
      ],
      "execution_count": null,
      "outputs": [
        {
          "output_type": "stream",
          "text": [
            "<class 'pandas.core.frame.DataFrame'>\n",
            "RangeIndex: 6234 entries, 0 to 6233\n",
            "Data columns (total 12 columns):\n",
            " #   Column        Non-Null Count  Dtype \n",
            "---  ------        --------------  ----- \n",
            " 0   show_id       6234 non-null   int64 \n",
            " 1   type          6234 non-null   object\n",
            " 2   title         6234 non-null   object\n",
            " 3   director      4265 non-null   object\n",
            " 4   cast          5664 non-null   object\n",
            " 5   country       5758 non-null   object\n",
            " 6   date_added    6223 non-null   object\n",
            " 7   release_year  6234 non-null   int64 \n",
            " 8   rating        6224 non-null   object\n",
            " 9   duration      6234 non-null   object\n",
            " 10  listed_in     6234 non-null   object\n",
            " 11  description   6234 non-null   object\n",
            "dtypes: int64(2), object(10)\n",
            "memory usage: 584.6+ KB\n"
          ],
          "name": "stdout"
        }
      ]
    },
    {
      "cell_type": "markdown",
      "metadata": {
        "id": "ivpHTGpczpyM"
      },
      "source": [
        "### Question 2\n",
        "Filter your dataset so it contains only `TV Shows`. How many of those TV Shows were rated `TV-Y7`?"
      ]
    },
    {
      "cell_type": "code",
      "metadata": {
        "id": "Zf6QABfXx5Xh",
        "colab": {
          "base_uri": "https://localhost:8080/"
        },
        "outputId": "3b70aa45-44ce-4eb9-edcc-5c03efbdab47"
      },
      "source": [
        "onlyTV = netflix[netflix['type'] == \"TV Show\"]\n",
        "rating = onlyTV[onlyTV['rating'].isin(['TV-Y7'])]\n",
        "rating['rating'].value_counts()"
      ],
      "execution_count": null,
      "outputs": [
        {
          "output_type": "execute_result",
          "data": {
            "text/plain": [
              "TV-Y7    100\n",
              "Name: rating, dtype: int64"
            ]
          },
          "metadata": {
            "tags": []
          },
          "execution_count": 17
        }
      ]
    },
    {
      "cell_type": "markdown",
      "metadata": {
        "id": "-esock-41eGo"
      },
      "source": [
        "### Question 3\n",
        "Further filter your dataset so it only contains TV Shows released between the years 2000 and 2009 inclusive. How many of *those* shows were rated `TV-Y7`?"
      ]
    },
    {
      "cell_type": "code",
      "metadata": {
        "id": "cBNHqCgz0WDp",
        "colab": {
          "base_uri": "https://localhost:8080/"
        },
        "outputId": "d71ab2a6-42db-4735-ed2d-8806fd94ed1e"
      },
      "source": [
        "years = rating[rating['release_year'].isin(['2000', '2001', '2002', '2003', '2004', '2005', '2006', '2007', '2008', '2009'])]\n",
        "years['rating'].value_counts()"
      ],
      "execution_count": null,
      "outputs": [
        {
          "output_type": "execute_result",
          "data": {
            "text/plain": [
              "TV-Y7    4\n",
              "Name: rating, dtype: int64"
            ]
          },
          "metadata": {
            "tags": []
          },
          "execution_count": 18
        }
      ]
    },
    {
      "cell_type": "markdown",
      "metadata": {
        "id": "cB4zmoJm3XDj"
      },
      "source": [
        "## Problem Group 2\n",
        "\n",
        "For the questions in this group, you'll work with the Cereal Dataset found at this url: [https://raw.githubusercontent.com/byui-cse/cse450-course/master/data/cereal.csv](https://raw.githubusercontent.com/byui-cse/cse450-course/master/data/cereal.csv)\n"
      ]
    },
    {
      "cell_type": "markdown",
      "metadata": {
        "id": "BE_TdsHa3sMj"
      },
      "source": [
        "### Question 4\n",
        "After importing the dataset into a pandas data frame, determine the median amount of `protein` in cereal brands manufactured by Kelloggs. (`mfr` code \"K\")"
      ]
    },
    {
      "cell_type": "code",
      "metadata": {
        "id": "fBXFGnfP2tfV",
        "colab": {
          "base_uri": "https://localhost:8080/"
        },
        "outputId": "79e7ce74-3850-4536-a65d-cea7bad127a9"
      },
      "source": [
        "cereal = pd.read_csv(\"https://raw.githubusercontent.com/byui-cse/cse450-course/master/data/cereal.csv\")\n",
        "kellogs = cereal[cereal['mfr'].isin(['K'])]\n",
        "kellogs['protein'].median()"
      ],
      "execution_count": null,
      "outputs": [
        {
          "output_type": "execute_result",
          "data": {
            "text/plain": [
              "3.0"
            ]
          },
          "metadata": {
            "tags": []
          },
          "execution_count": 25
        }
      ]
    },
    {
      "cell_type": "markdown",
      "metadata": {
        "id": "W3del4PC9NJ-"
      },
      "source": [
        "### Question 5\n",
        "In order to comply with new government regulations, all cereals must now come with a \"Healthiness\" rating. This rating is calculated based on this formula:\n",
        "\n",
        "    healthiness = (protein + fiber) / sugar\n",
        "\n",
        "Create a new `healthiness` column populated with values based on the above formula.\n",
        "\n",
        "Then, determine the median healthiness value for only General Mills cereals (`mfr` = \"G\"), rounded to two decimal places."
      ]
    },
    {
      "cell_type": "code",
      "metadata": {
        "id": "TqFx9yvV6LDX",
        "colab": {
          "base_uri": "https://localhost:8080/"
        },
        "outputId": "0f5552ea-61ff-4c83-881a-d1d6ab43ce62"
      },
      "source": [
        "cereal['healthiness'] = (cereal.protein + cereal.fiber) / cereal.sugars\n",
        "gm = cereal[cereal['mfr'].isin(['G'])]\n",
        "round(gm['healthiness'].median(), 2)"
      ],
      "execution_count": null,
      "outputs": [
        {
          "output_type": "execute_result",
          "data": {
            "text/plain": [
              "0.47"
            ]
          },
          "metadata": {
            "tags": []
          },
          "execution_count": 28
        }
      ]
    },
    {
      "cell_type": "markdown",
      "metadata": {
        "id": "AcuUNAxC-g7c"
      },
      "source": [
        "## Problem Group 3\n",
        "\n",
        "For the questions in this group, you'll work with the Titanic Dataset found at this url: [https://raw.githubusercontent.com/byui-cse/cse450-course/master/data/titanic.csv](https://raw.githubusercontent.com/byui-cse/cse450-course/master/data/titanic.csv)"
      ]
    },
    {
      "cell_type": "markdown",
      "metadata": {
        "id": "POOuuXfYAJQK"
      },
      "source": [
        "### Question 6\n",
        "\n",
        "After loading the dataset into a pandas DataFrame, create a new column called `NameGroup` that contains the first letter of the passenger's surname in lower case.\n",
        "\n",
        "Note that in the dataset, passenger's names are provided in the `Name` column and are listed as:\n",
        "\n",
        "    Surname, Given names\n",
        "\n",
        "For example, if a passenger's `Name` is `Braund, Mr. Owen Harris`, the `NameGroup` column should contain the value `b`.\n",
        "\n",
        "Then count how many passengers have a `NameGroup` value of `k`."
      ]
    },
    {
      "cell_type": "code",
      "metadata": {
        "id": "T80gU65-ASFa",
        "colab": {
          "base_uri": "https://localhost:8080/",
          "height": 203
        },
        "outputId": "8fb8ebd5-0b16-438f-8af5-2ae37f8ab2c4"
      },
      "source": [
        "titanic = pd.read_csv(\"https://raw.githubusercontent.com/byui-cse/cse450-course/master/data/titanic.csv\")\n",
        "titanic['NameGroup'] = titanic['Name'].str[0]\n",
        "titanic.head()"
      ],
      "execution_count": null,
      "outputs": [
        {
          "output_type": "execute_result",
          "data": {
            "text/html": [
              "<div>\n",
              "<style scoped>\n",
              "    .dataframe tbody tr th:only-of-type {\n",
              "        vertical-align: middle;\n",
              "    }\n",
              "\n",
              "    .dataframe tbody tr th {\n",
              "        vertical-align: top;\n",
              "    }\n",
              "\n",
              "    .dataframe thead th {\n",
              "        text-align: right;\n",
              "    }\n",
              "</style>\n",
              "<table border=\"1\" class=\"dataframe\">\n",
              "  <thead>\n",
              "    <tr style=\"text-align: right;\">\n",
              "      <th></th>\n",
              "      <th>PassengerId</th>\n",
              "      <th>Survived</th>\n",
              "      <th>Pclass</th>\n",
              "      <th>Name</th>\n",
              "      <th>Sex</th>\n",
              "      <th>Age</th>\n",
              "      <th>SibSp</th>\n",
              "      <th>Parch</th>\n",
              "      <th>Ticket</th>\n",
              "      <th>Fare</th>\n",
              "      <th>Cabin</th>\n",
              "      <th>Embarked</th>\n",
              "      <th>NameGroup</th>\n",
              "    </tr>\n",
              "  </thead>\n",
              "  <tbody>\n",
              "    <tr>\n",
              "      <th>0</th>\n",
              "      <td>1</td>\n",
              "      <td>No</td>\n",
              "      <td>3</td>\n",
              "      <td>Braund, Mr. Owen Harris</td>\n",
              "      <td>male</td>\n",
              "      <td>22.0</td>\n",
              "      <td>1</td>\n",
              "      <td>0</td>\n",
              "      <td>A/5 21171</td>\n",
              "      <td>7.2500</td>\n",
              "      <td>NaN</td>\n",
              "      <td>S</td>\n",
              "      <td>B</td>\n",
              "    </tr>\n",
              "    <tr>\n",
              "      <th>1</th>\n",
              "      <td>2</td>\n",
              "      <td>Yes</td>\n",
              "      <td>1</td>\n",
              "      <td>Cumings, Mrs. John Bradley (Florence Briggs Th...</td>\n",
              "      <td>female</td>\n",
              "      <td>38.0</td>\n",
              "      <td>1</td>\n",
              "      <td>0</td>\n",
              "      <td>PC 17599</td>\n",
              "      <td>71.2833</td>\n",
              "      <td>C85</td>\n",
              "      <td>C</td>\n",
              "      <td>C</td>\n",
              "    </tr>\n",
              "    <tr>\n",
              "      <th>2</th>\n",
              "      <td>3</td>\n",
              "      <td>Yes</td>\n",
              "      <td>3</td>\n",
              "      <td>Heikkinen, Miss. Laina</td>\n",
              "      <td>female</td>\n",
              "      <td>26.0</td>\n",
              "      <td>0</td>\n",
              "      <td>0</td>\n",
              "      <td>STON/O2. 3101282</td>\n",
              "      <td>7.9250</td>\n",
              "      <td>NaN</td>\n",
              "      <td>S</td>\n",
              "      <td>H</td>\n",
              "    </tr>\n",
              "    <tr>\n",
              "      <th>3</th>\n",
              "      <td>4</td>\n",
              "      <td>Yes</td>\n",
              "      <td>1</td>\n",
              "      <td>Futrelle, Mrs. Jacques Heath (Lily May Peel)</td>\n",
              "      <td>female</td>\n",
              "      <td>35.0</td>\n",
              "      <td>1</td>\n",
              "      <td>0</td>\n",
              "      <td>113803</td>\n",
              "      <td>53.1000</td>\n",
              "      <td>C123</td>\n",
              "      <td>S</td>\n",
              "      <td>F</td>\n",
              "    </tr>\n",
              "    <tr>\n",
              "      <th>4</th>\n",
              "      <td>5</td>\n",
              "      <td>No</td>\n",
              "      <td>3</td>\n",
              "      <td>Allen, Mr. William Henry</td>\n",
              "      <td>male</td>\n",
              "      <td>35.0</td>\n",
              "      <td>0</td>\n",
              "      <td>0</td>\n",
              "      <td>373450</td>\n",
              "      <td>8.0500</td>\n",
              "      <td>NaN</td>\n",
              "      <td>S</td>\n",
              "      <td>A</td>\n",
              "    </tr>\n",
              "  </tbody>\n",
              "</table>\n",
              "</div>"
            ],
            "text/plain": [
              "   PassengerId Survived  Pclass  ... Cabin Embarked  NameGroup\n",
              "0            1       No       3  ...   NaN        S          B\n",
              "1            2      Yes       1  ...   C85        C          C\n",
              "2            3      Yes       3  ...   NaN        S          H\n",
              "3            4      Yes       1  ...  C123        S          F\n",
              "4            5       No       3  ...   NaN        S          A\n",
              "\n",
              "[5 rows x 13 columns]"
            ]
          },
          "metadata": {
            "tags": []
          },
          "execution_count": 31
        }
      ]
    },
    {
      "cell_type": "code",
      "metadata": {
        "id": "E81qACTfAWl2",
        "colab": {
          "base_uri": "https://localhost:8080/"
        },
        "outputId": "508e5695-a4c3-4cc7-e2de-18aa4414e0e8"
      },
      "source": [
        "group_k = titanic[titanic['NameGroup'].isin(['K'])]\n",
        "group_k['NameGroup'].value_counts()"
      ],
      "execution_count": null,
      "outputs": [
        {
          "output_type": "execute_result",
          "data": {
            "text/plain": [
              "K    28\n",
              "Name: NameGroup, dtype: int64"
            ]
          },
          "metadata": {
            "tags": []
          },
          "execution_count": 33
        }
      ]
    }
  ]
}